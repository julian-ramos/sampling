{
 "cells": [
  {
   "cell_type": "code",
   "execution_count": 1,
   "metadata": {
    "collapsed": false
   },
   "outputs": [
    {
     "name": "stdout",
     "output_type": "stream",
     "text": [
      "./benLogFile.txt\n",
      "\n",
      "activity,imported modules and starting,Oct-29-02:30:51PM\n"
     ]
    }
   ],
   "source": [
    "#Test random sampling\n",
    "import sys\n",
    "sys.path.append(\"/Users/ingenia/git/instrumento/\")\n",
    "sys.path.append(\"/Users/ingenia/git/utilityFuncs/\")\n",
    "import random_sampling\n",
    "import instrumento as ins\n",
    "import numpy as np\n",
    "import pandas as pd\n",
    "\n",
    "from sklearn.metrics import f1_score\n",
    "from sklearn.metrics import confusion_matrix as cm\n",
    "\n",
    "import query_by_committee_sampling\n",
    "import density_sampling\n",
    "import random_sampling\n",
    "import uncertainty_sampling\n",
    "\n",
    "from sklearn.cross_validation import train_test_split\n",
    "from sklearn.grid_search import (GridSearchCV, RandomizedSearchCV)\n",
    "\n",
    "from sklearn.preprocessing import StandardScaler\n",
    "from sklearn.neighbors import KNeighborsClassifier\n",
    "from sklearn.svm import SVC\n",
    "from sklearn.tree import DecisionTreeClassifier\n",
    "from sklearn.ensemble import RandomForestClassifier, AdaBoostClassifier\n",
    "from sklearn.naive_bayes import GaussianNB\n",
    "from sklearn.lda import LDA\n",
    "from sklearn.qda import QDA\n",
    "from sklearn.linear_model import LogisticRegression\n",
    "\n",
    "\n",
    "log=ins.instrumento(filename=\"./benLogFile.txt\",printout=True)\n",
    "\n",
    "log.act(\"imported modules and starting\")"
   ]
  },
  {
   "cell_type": "code",
   "execution_count": 10,
   "metadata": {
    "collapsed": false
   },
   "outputs": [
    {
     "name": "stdout",
     "output_type": "stream",
     "text": [
      "\n",
      "activity,reading data,Oct-29-02:41:50PM\n"
     ]
    },
    {
     "data": {
      "text/html": [
       "<div>\n",
       "<table border=\"1\" class=\"dataframe\">\n",
       "  <thead>\n",
       "    <tr style=\"text-align: right;\">\n",
       "      <th></th>\n",
       "      <th>bot</th>\n",
       "      <th>f1</th>\n",
       "      <th>f2</th>\n",
       "      <th>f3</th>\n",
       "      <th>f4</th>\n",
       "      <th>f5</th>\n",
       "      <th>f6</th>\n",
       "      <th>f7</th>\n",
       "      <th>f8</th>\n",
       "      <th>f9</th>\n",
       "      <th>...</th>\n",
       "      <th>f17</th>\n",
       "      <th>f18</th>\n",
       "      <th>f19</th>\n",
       "      <th>f20</th>\n",
       "      <th>f21</th>\n",
       "      <th>f22</th>\n",
       "      <th>f23</th>\n",
       "      <th>f24</th>\n",
       "      <th>f25</th>\n",
       "      <th>f26</th>\n",
       "    </tr>\n",
       "    <tr>\n",
       "      <th>ID</th>\n",
       "      <th></th>\n",
       "      <th></th>\n",
       "      <th></th>\n",
       "      <th></th>\n",
       "      <th></th>\n",
       "      <th></th>\n",
       "      <th></th>\n",
       "      <th></th>\n",
       "      <th></th>\n",
       "      <th></th>\n",
       "      <th></th>\n",
       "      <th></th>\n",
       "      <th></th>\n",
       "      <th></th>\n",
       "      <th></th>\n",
       "      <th></th>\n",
       "      <th></th>\n",
       "      <th></th>\n",
       "      <th></th>\n",
       "      <th></th>\n",
       "      <th></th>\n",
       "    </tr>\n",
       "  </thead>\n",
       "  <tbody>\n",
       "    <tr>\n",
       "      <th>808354</th>\n",
       "      <td>0</td>\n",
       "      <td>5.47</td>\n",
       "      <td>0.21</td>\n",
       "      <td>2.11</td>\n",
       "      <td>14.50</td>\n",
       "      <td>1.34</td>\n",
       "      <td>6.09</td>\n",
       "      <td>11.90</td>\n",
       "      <td>0.42</td>\n",
       "      <td>4.90</td>\n",
       "      <td>...</td>\n",
       "      <td>9.44</td>\n",
       "      <td>732</td>\n",
       "      <td>32</td>\n",
       "      <td>17.23</td>\n",
       "      <td>33.17</td>\n",
       "      <td>0.64</td>\n",
       "      <td>0.48</td>\n",
       "      <td>522674.19</td>\n",
       "      <td>1456515.46</td>\n",
       "      <td>1195630.64</td>\n",
       "    </tr>\n",
       "    <tr>\n",
       "      <th>433328</th>\n",
       "      <td>1</td>\n",
       "      <td>0.94</td>\n",
       "      <td>0.81</td>\n",
       "      <td>5.66</td>\n",
       "      <td>17.72</td>\n",
       "      <td>4.66</td>\n",
       "      <td>23.30</td>\n",
       "      <td>0.82</td>\n",
       "      <td>0.78</td>\n",
       "      <td>5.09</td>\n",
       "      <td>...</td>\n",
       "      <td>6.91</td>\n",
       "      <td>6632125</td>\n",
       "      <td>483175</td>\n",
       "      <td>6.69</td>\n",
       "      <td>40.63</td>\n",
       "      <td>0.93</td>\n",
       "      <td>0.26</td>\n",
       "      <td>4483198.99</td>\n",
       "      <td>10798649.88</td>\n",
       "      <td>7202.57</td>\n",
       "    </tr>\n",
       "    <tr>\n",
       "      <th>1146111</th>\n",
       "      <td>0</td>\n",
       "      <td>7.33</td>\n",
       "      <td>1.85</td>\n",
       "      <td>3.22</td>\n",
       "      <td>36.06</td>\n",
       "      <td>11.96</td>\n",
       "      <td>27.02</td>\n",
       "      <td>10.13</td>\n",
       "      <td>3.67</td>\n",
       "      <td>5.85</td>\n",
       "      <td>...</td>\n",
       "      <td>9.06</td>\n",
       "      <td>26036</td>\n",
       "      <td>797</td>\n",
       "      <td>19.66</td>\n",
       "      <td>97.39</td>\n",
       "      <td>0.02</td>\n",
       "      <td>0.14</td>\n",
       "      <td>791116.41</td>\n",
       "      <td>2903179.75</td>\n",
       "      <td>115239.53</td>\n",
       "    </tr>\n",
       "    <tr>\n",
       "      <th>861745</th>\n",
       "      <td>0</td>\n",
       "      <td>3.22</td>\n",
       "      <td>10.11</td>\n",
       "      <td>56.72</td>\n",
       "      <td>11.88</td>\n",
       "      <td>63.25</td>\n",
       "      <td>436.92</td>\n",
       "      <td>0.83</td>\n",
       "      <td>0.21</td>\n",
       "      <td>0.14</td>\n",
       "      <td>...</td>\n",
       "      <td>7.79</td>\n",
       "      <td>6585</td>\n",
       "      <td>82</td>\n",
       "      <td>1.17</td>\n",
       "      <td>5.06</td>\n",
       "      <td>0.41</td>\n",
       "      <td>0.49</td>\n",
       "      <td>1171639.03</td>\n",
       "      <td>2396799.99</td>\n",
       "      <td>5224761.29</td>\n",
       "    </tr>\n",
       "    <tr>\n",
       "      <th>306411</th>\n",
       "      <td>0</td>\n",
       "      <td>0.50</td>\n",
       "      <td>0.00</td>\n",
       "      <td>1.50</td>\n",
       "      <td>0.87</td>\n",
       "      <td>0.00</td>\n",
       "      <td>0.87</td>\n",
       "      <td>1.00</td>\n",
       "      <td>0.00</td>\n",
       "      <td>1.00</td>\n",
       "      <td>...</td>\n",
       "      <td>4.49</td>\n",
       "      <td>8</td>\n",
       "      <td>3</td>\n",
       "      <td>2.00</td>\n",
       "      <td>2.00</td>\n",
       "      <td>0.50</td>\n",
       "      <td>0.50</td>\n",
       "      <td>527814.25</td>\n",
       "      <td>787291.59</td>\n",
       "      <td>3157474.20</td>\n",
       "    </tr>\n",
       "  </tbody>\n",
       "</table>\n",
       "<p>5 rows × 27 columns</p>\n",
       "</div>"
      ],
      "text/plain": [
       "         bot    f1     f2     f3     f4     f5      f6     f7    f8    f9  \\\n",
       "ID                                                                          \n",
       "808354     0  5.47   0.21   2.11  14.50   1.34    6.09  11.90  0.42  4.90   \n",
       "433328     1  0.94   0.81   5.66  17.72   4.66   23.30   0.82  0.78  5.09   \n",
       "1146111    0  7.33   1.85   3.22  36.06  11.96   27.02  10.13  3.67  5.85   \n",
       "861745     0  3.22  10.11  56.72  11.88  63.25  436.92   0.83  0.21  0.14   \n",
       "306411     0  0.50   0.00   1.50   0.87   0.00    0.87   1.00  0.00  1.00   \n",
       "\n",
       "            ...       f17      f18     f19    f20    f21   f22   f23  \\\n",
       "ID          ...                                                        \n",
       "808354      ...      9.44      732      32  17.23  33.17  0.64  0.48   \n",
       "433328      ...      6.91  6632125  483175   6.69  40.63  0.93  0.26   \n",
       "1146111     ...      9.06    26036     797  19.66  97.39  0.02  0.14   \n",
       "861745      ...      7.79     6585      82   1.17   5.06  0.41  0.49   \n",
       "306411      ...      4.49        8       3   2.00   2.00  0.50  0.50   \n",
       "\n",
       "                f24          f25         f26  \n",
       "ID                                            \n",
       "808354    522674.19   1456515.46  1195630.64  \n",
       "433328   4483198.99  10798649.88     7202.57  \n",
       "1146111   791116.41   2903179.75   115239.53  \n",
       "861745   1171639.03   2396799.99  5224761.29  \n",
       "306411    527814.25    787291.59  3157474.20  \n",
       "\n",
       "[5 rows x 27 columns]"
      ]
     },
     "execution_count": 10,
     "metadata": {},
     "output_type": "execute_result"
    }
   ],
   "source": [
    "log.act(\"reading data\")\n",
    "path=\"/Users/ingenia/git/data/data_sampling/\"\n",
    "dataFilename=path+\"test_data.tsv\"\n",
    "colnames = [\"ID\", \"bot\", \"f1\", \"f2\", \"f3\", \"f4\", \"f5\", \"f6\", \"f7\", \"f8\", \"f9\", \"f10\", \"f11\", \"f12\", \"f13\", \"f14\", \"f15\", \"f16\", \"f17\", \"f18\", \"f19\", \"f20\", \"f21\", \"f22\", \"f23\", \"f24\", \"f25\", \"f26\"]\n",
    "df = pd.read_csv(dataFilename, sep=\"\\t\", index_col=0, header=None, names=colnames)\n",
    "df.head()"
   ]
  },
  {
   "cell_type": "code",
   "execution_count": 16,
   "metadata": {
    "collapsed": false
   },
   "outputs": [
    {
     "name": "stdout",
     "output_type": "stream",
     "text": [
      "\n",
      "activity,Start,Oct-29-02:58:41PM\n",
      "\n",
      "activity,Data read,Oct-29-02:58:41PM\n",
      "\n",
      "summary,(2222978, 27) Shape,Oct-29-02:58:41PM\n",
      "\n",
      "summary,2222978 Unique Rows,Oct-29-02:58:41PM\n",
      "\n",
      "summary,0.000243817077812 Mean bot percent,Oct-29-02:58:41PM\n",
      "\n",
      "activity,End,Oct-29-02:58:41PM\n"
     ]
    }
   ],
   "source": [
    "log.act(\"Start\")\n",
    "unique_ids = len(df.index.unique())\n",
    "shape = df.shape\n",
    "log.act(\"Data read\")\n",
    "log.sum(str(shape), \"Shape\")\n",
    "log.sum(str(unique_ids), \"Unique Rows\")\n",
    "log.sum(str(df.bot.mean()), \"Mean bot percent\")\n",
    "log.act(\"End\")"
   ]
  },
  {
   "cell_type": "code",
   "execution_count": 35,
   "metadata": {
    "collapsed": false
   },
   "outputs": [
    {
     "name": "stdout",
     "output_type": "stream",
     "text": [
      "\n",
      "activity,Start,Oct-29-03:28:42PM\n",
      "\n",
      "activity,Starting with a random sample since it's most straitfwd and I can use the sklearn tools I'm familiar with,Oct-29-03:28:42PM\n",
      "\n",
      "activity,The very unbalanced (only 542 bots) labels are a little concerning,Oct-29-03:28:42PM\n",
      "\n",
      "summary,63.0 bots in the train set (out of 542),Oct-29-03:28:45PM\n",
      "\n",
      "activity,End,Oct-29-03:28:45PM\n"
     ]
    }
   ],
   "source": [
    "log.act(\"Start\")\n",
    "log.act(\"Starting with a random sample since it's most straitfwd and I can use the sklearn tools I'm familiar with\")\n",
    "log.act(\"The very unbalanced (only 542 bots) labels are a little concerning\")\n",
    "random_train, random_valid = train_test_split(df, test_size=0.9, random_state=42)\n",
    "train_bots = np.sum(random_train['bot'])\n",
    "log.sum(str(train_bots), \"bots in the train set (out of 542)\")\n",
    "log.act(\"End\")"
   ]
  },
  {
   "cell_type": "code",
   "execution_count": 36,
   "metadata": {
    "collapsed": false
   },
   "outputs": [
    {
     "name": "stdout",
     "output_type": "stream",
     "text": [
      "\n",
      "activity,Start,Oct-29-03:29:07PM\n",
      "\n",
      "activity,Try defining some rudimentary classifiers to train and apply some very basic tuning,Oct-29-03:29:07PM\n",
      "\n",
      "activity,End,Oct-29-03:29:07PM\n"
     ]
    }
   ],
   "source": [
    "log.act(\"Start\")\n",
    "log.act(\"Try defining some rudimentary classifiers to train and apply some very basic tuning\")\n",
    "clf1 = LogisticRegression()\n",
    "grid1 = {'C': np.logspace(-3,3, 3)}\n",
    "clf2 = RandomForestClassifier(n_estimators=5)\n",
    "grid2 = {'max_features':['sqrt', 0.5], 'max_depth': [15, 5], 'min_samples_split': [4,9,25], 'min_samples_leaf':[1,3,5]}\n",
    "log.act(\"End\")"
   ]
  },
  {
   "cell_type": "code",
   "execution_count": 38,
   "metadata": {
    "collapsed": false
   },
   "outputs": [
    {
     "name": "stdout",
     "output_type": "stream",
     "text": [
      "\n",
      "activity,Start,Oct-29-03:32:49PM\n",
      "\n",
      "activity,Running a CV on 10% data to find best logistic regression params...now I could run an uncertainty sampling for example, with maybe reasonable params,Oct-29-03:32:49PM\n",
      "CPU times: user 59.7 s, sys: 1.18 s, total: 1min\n",
      "Wall time: 1min 2s\n",
      "Here are the scores for each parameter:\n",
      "\n",
      "activity,End,Oct-29-03:33:51PM\n"
     ]
    },
    {
     "data": {
      "text/plain": [
       "[mean: 0.03221, std: 0.03712, params: {'C': 0.001},\n",
       " mean: 0.03891, std: 0.03467, params: {'C': 1.0},\n",
       " mean: 0.03192, std: 0.03671, params: {'C': 1000.0}]"
      ]
     },
     "execution_count": 38,
     "metadata": {},
     "output_type": "execute_result"
    }
   ],
   "source": [
    "log.act(\"Start\")\n",
    "log.act(\"Running a CV on 10% data to find best logistic regression params...now I could run an uncertainty sampling for example, with maybe reasonable params\")\n",
    "grid = GridSearchCV(clf1, grid1, cv=3, scoring='f1')\n",
    "%time grid.fit(random_train.drop(['bot'], axis=1), random_train['bot']) \n",
    "print \"Here are the scores for each parameter:\"\n",
    "log.act(\"End\")\n",
    "grid.grid_scores_"
   ]
  },
  {
   "cell_type": "code",
   "execution_count": 39,
   "metadata": {
    "collapsed": false
   },
   "outputs": [
    {
     "data": {
      "text/plain": [
       "LogisticRegression(C=1.0, class_weight=None, dual=False, fit_intercept=True,\n",
       "          intercept_scaling=1, max_iter=100, multi_class='ovr',\n",
       "          penalty='l2', random_state=None, solver='liblinear', tol=0.0001,\n",
       "          verbose=0)"
      ]
     },
     "execution_count": 39,
     "metadata": {},
     "output_type": "execute_result"
    }
   ],
   "source": [
    "clf1.set_params(**grid.best_params_)"
   ]
  },
  {
   "cell_type": "code",
   "execution_count": 42,
   "metadata": {
    "collapsed": false
   },
   "outputs": [
    {
     "name": "stdout",
     "output_type": "stream",
     "text": [
      "\n",
      "activity,Start,Oct-29-03:45:32PM\n",
      "\n",
      "activity,Running a CV on 10% data to find best RF params, after re-training this at least I could get 3 best features,Oct-29-03:45:32PM\n",
      "CPU times: user 25.2 s, sys: 766 ms, total: 26 s\n",
      "Wall time: 26.3 s\n",
      "Here are the scores for each parameter:\n",
      "\n",
      "activity,End,Oct-29-03:45:58PM\n"
     ]
    },
    {
     "data": {
      "text/plain": [
       "[mean: 0.32214, std: 0.09452, params: {'max_features': 0.5, 'min_samples_split': 25, 'max_depth': 15, 'min_samples_leaf': 3},\n",
       " mean: 0.40677, std: 0.10414, params: {'max_features': 0.5, 'min_samples_split': 9, 'max_depth': 15, 'min_samples_leaf': 3},\n",
       " mean: 0.19222, std: 0.04095, params: {'max_features': 'sqrt', 'min_samples_split': 4, 'max_depth': 5, 'min_samples_leaf': 1},\n",
       " mean: 0.47778, std: 0.16405, params: {'max_features': 0.5, 'min_samples_split': 25, 'max_depth': 15, 'min_samples_leaf': 5}]"
      ]
     },
     "execution_count": 42,
     "metadata": {},
     "output_type": "execute_result"
    }
   ],
   "source": [
    "log.act(\"Start\")\n",
    "log.act(\"Running a CV on 10% data to find best RF params, after re-training this at least I could get 3 best features\")\n",
    "grid = RandomizedSearchCV(clf2, grid2, n_iter=4, cv=3, scoring=\"f1\")\n",
    "%time grid.fit(random_train.drop(['bot'], axis=1), random_train['bot']) \n",
    "print \"Here are the scores for each parameter:\"\n",
    "log.act(\"End\")\n",
    "clf2.set_params(**grid.best_params_)\n",
    "grid.grid_scores_"
   ]
  },
  {
   "cell_type": "code",
   "execution_count": 51,
   "metadata": {
    "collapsed": false
   },
   "outputs": [
    {
     "name": "stdout",
     "output_type": "stream",
     "text": [
      "\n",
      "activity,Start,Oct-29-03:59:09PM\n",
      "\n",
      "activity,Retrain on bigger portion of data, to get 3 most important features,Oct-29-03:59:09PM\n",
      "(800272, 27)\n",
      "CPU times: user 1min 46s, sys: 1.35 s, total: 1min 48s\n",
      "Wall time: 1min 51s\n",
      "\n",
      "activity,End,Oct-29-04:01:03PM\n"
     ]
    }
   ],
   "source": [
    "log.act(\"Start\")\n",
    "log.act(\"Retrain on bigger portion of data, to get 3 most important features\")\n",
    "clf2.n_estimators = 10\n",
    "random_sample, extra = train_test_split(random_valid, test_size=0.60, random_state=42)\n",
    "print random_sample.shape\n",
    "%time clf2.fit(random_sample.drop(['bot'], axis=1), random_sample['bot']) \n",
    "log.act(\"End\")"
   ]
  },
  {
   "cell_type": "code",
   "execution_count": 54,
   "metadata": {
    "collapsed": false
   },
   "outputs": [
    {
     "name": "stdout",
     "output_type": "stream",
     "text": [
      "\n",
      "activity,Start,Oct-29-04:01:22PM\n",
      "\n",
      "activity,End,Oct-29-04:01:22PM\n"
     ]
    }
   ],
   "source": [
    "log.act(\"Start\")\n",
    "pd.Series(index=random_sample.drop(['bot'], axis=1).columns, data = clf2.feature_importances_).order().plot(kind='barh', title='Variable Importances')\n",
    "log.act(\"End\")"
   ]
  },
  {
   "cell_type": "code",
   "execution_count": 55,
   "metadata": {
    "collapsed": false
   },
   "outputs": [
    {
     "data": {
      "text/plain": [
       "f16    0.002463\n",
       "f6     0.005863\n",
       "f1     0.008465\n",
       "f7     0.008942\n",
       "f24    0.009253\n",
       "f13    0.009854\n",
       "f3     0.010767\n",
       "f17    0.011044\n",
       "f26    0.013212\n",
       "f2     0.014377\n",
       "f25    0.014793\n",
       "f10    0.014966\n",
       "f15    0.015638\n",
       "f5     0.018904\n",
       "f12    0.020390\n",
       "f8     0.022597\n",
       "f14    0.023991\n",
       "f18    0.033845\n",
       "f11    0.035666\n",
       "f4     0.042900\n",
       "f20    0.049888\n",
       "f9     0.050497\n",
       "f21    0.054940\n",
       "f23    0.101986\n",
       "f22    0.137193\n",
       "f19    0.267564\n",
       "dtype: float64"
      ]
     },
     "execution_count": 55,
     "metadata": {},
     "output_type": "execute_result"
    }
   ],
   "source": [
    "pd.Series(index=random_sample.drop(['bot'], axis=1).columns, data = clf2.feature_importances_).order()"
   ]
  },
  {
   "cell_type": "code",
   "execution_count": null,
   "metadata": {
    "collapsed": true
   },
   "outputs": [],
   "source": [
    "vals = uncertainty_sampling.parallel_reg_uncertainty_sampling(clf1,[dataFilename],[:],1,0.1,8)"
   ]
  },
  {
   "cell_type": "code",
   "execution_count": 56,
   "metadata": {
    "collapsed": true
   },
   "outputs": [],
   "source": [
    "?random_sampling.parallel_random_sampling"
   ]
  }
 ],
 "metadata": {
  "kernelspec": {
   "display_name": "Python 2",
   "language": "python",
   "name": "python2"
  },
  "language_info": {
   "codemirror_mode": {
    "name": "ipython",
    "version": 2
   },
   "file_extension": ".py",
   "mimetype": "text/x-python",
   "name": "python",
   "nbconvert_exporter": "python",
   "pygments_lexer": "ipython2",
   "version": "2.7.10"
  }
 },
 "nbformat": 4,
 "nbformat_minor": 0
}
