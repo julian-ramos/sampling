{
 "cells": [
  {
   "cell_type": "code",
   "execution_count": 1,
   "metadata": {
    "collapsed": false
   },
   "outputs": [
    {
     "name": "stdout",
     "output_type": "stream",
     "text": [
      "Job done. Completed 2 jobs\n",
      "[['data/part1.tsv-rand-0.1', 102], ['data/part2.tsv-rand-0.1', 80]]\n",
      "Job done. Completed 2 jobs\n",
      "[['data/part1.tsv-outbb-0.1', 40], ['data/part2.tsv-outbb-0.1', 44]]\n",
      "Job done. Completed 2 jobs\n",
      "[['data/part1.tsv-inbb-0.1', 10], ['data/part2.tsv-inbb-0.1', 14]]\n"
     ]
    }
   ],
   "source": [
    "#Test random sampling\n",
    "import random_sampling\n",
    "\n",
    "print random_sampling.parallel_random_sampling(0.1,[\"data/part1.tsv\",\"data/part2.tsv\"], 1)\n",
    "print random_sampling.parallel_outbox_sampling((30,30,\"*\",\"*\"),(60,60,\"*\",\"*\"),0.1,[\"data/part1.tsv\",\"data/part2.tsv\"], 8)\n",
    "print random_sampling.parallel_inbox_sampling((30,30,\"*\",\"*\"),(60,60,\"*\",\"*\"),0.1,[\"data/part1.tsv\",\"data/part2.tsv\"], 8)\n"
   ]
  },
  {
   "cell_type": "code",
   "execution_count": null,
   "metadata": {
    "collapsed": false
   },
   "outputs": [],
   "source": [
    "# Test uncertainty Sampling\n",
    "import load_tsv\n",
    "import numpy\n",
    "from sklearn import linear_model\n",
    "import uncertainty_sampling\n",
    "\n",
    "features, truth = load_tsv.load_tsv_features_truth(\"data/part1.tsv\",[0,1,2],3)\n",
    "linreg = linear_model.LinearRegression()\n",
    "linreg.fit(features, truth)\n",
    "vals = uncertainty_sampling.parallel_reg_uncertainty_sampling(linreg,[\"data/part1.tsv\", \"data/part2.tsv\"],[0,1,2],3,0.1,1)\n",
    "print vals"
   ]
  },
  {
   "cell_type": "code",
   "execution_count": null,
   "metadata": {
    "collapsed": false
   },
   "outputs": [],
   "source": [
    "# Test maximum entropy uncertainty Sampling\n",
    "import load_tsv\n",
    "import numpy\n",
    "from sklearn.svm import SVC\n",
    "import uncertainty_sampling\n",
    "\n",
    "features, truth = load_tsv.load_tsv_features_truth(\"data/part1.tsv\",[0,1,2],3)\n",
    "# Create, fit, predict with the SVM Classifier\n",
    "svm = SVC(C=1, kernel=\"linear\", probability=True, max_iter=50000)\n",
    "svm.fit(features, truth)\n",
    "vals = uncertainty_sampling.parallel_maxent_uncertainty_sampling(svm,[\"data/part1.tsv\", \"data/part2.tsv\"],[0,1,2],3,0.1,1)\n",
    "print vals"
   ]
  },
  {
   "cell_type": "code",
   "execution_count": null,
   "metadata": {
    "collapsed": false
   },
   "outputs": [],
   "source": [
    "#%load parallel_jobs.py\n",
    "#%load load_tsv.py"
   ]
  },
  {
   "cell_type": "code",
   "execution_count": null,
   "metadata": {
    "collapsed": false
   },
   "outputs": [],
   "source": [
    "# Test density Sampling\n",
    "import load_tsv\n",
    "import numpy\n",
    "from sklearn.svm import SVC\n",
    "import density_sampling\n",
    "\n",
    "features, truth = load_tsv.load_tsv_features_truth(\"data/part1.tsv\",[0,1,2],3)\n",
    "vals = density_sampling.parallel_density_sampling([\"data/part1.tsv\", \"data/part2.tsv\"], \"data/densitytest.tsv\", [0,1,2], 3, 3, 0.2, 5, 8)    \n",
    "print vals"
   ]
  },
  {
   "cell_type": "code",
   "execution_count": 2,
   "metadata": {
    "collapsed": false
   },
   "outputs": [
    {
     "name": "stdout",
     "output_type": "stream",
     "text": [
      "Job done. Completed 2 jobs\n",
      "[['data/part1.tsv-query-101', 1017], ['data/part2.tsv-query-98', 983]]\n"
     ]
    }
   ],
   "source": [
    "# Test query by committee Sampling\n",
    "import load_tsv\n",
    "import numpy\n",
    "from sklearn.svm import SVC\n",
    "import query_by_committee_sampling\n",
    "\n",
    "features, truth = load_tsv.load_tsv_features_truth(\"data/part1.tsv\",[0,1,2],3)\n",
    "# Create, fit, predict with the SVM Classifier\n",
    "svm = SVC(C=1, kernel=\"linear\", probability=True, max_iter=50000)\n",
    "svm.fit(features, truth)\n",
    "#vals = query_by_committee_sampling.query_sampling(([svm], features, truth, 0.1, \"data/part1.tsv\"))\n",
    "#features, truth = load_tsv.load_tsv_features_truth(\"data/part1.tsv\", [0,1,2], 3)\n",
    "vals = query_by_committee_sampling.parallel_query_sampling([svm],[\"data/part1.tsv\", \"data/part2.tsv\"]  ,[0,1,2],3,0.1,1)\n",
    "print vals"
   ]
  },
  {
   "cell_type": "code",
   "execution_count": null,
   "metadata": {
    "collapsed": false
   },
   "outputs": [],
   "source": [
    "%matplotlib inline\n",
    "\n",
    "import matplotlib.pyplot as pyplot\n",
    "import load_tsv\n",
    "import numpy\n",
    "from sklearn.svm import SVC\n",
    "import uncertainty_sampling\n",
    "\n",
    "#assumes non-empty array of features\n",
    "def convert_array(features, truth, idx):\n",
    "    if idx == -1:\n",
    "        return numpy.ones(len(features))\n",
    "    if idx == len(features[0]):\n",
    "        return truth\n",
    "    else: #return relevant column\n",
    "        return features[:,idx]\n",
    "\n",
    "#if circle_area_feature_idx or color_feature_idx = -1 then choose a default\n",
    "#if circle_area_feature_idx or color_feature_idx = width of array then choose the truth array\n",
    "def scatterplot(features, truth, xaxis_feature_idx, yaxis_feature_idx, circle_area_feature_idx, color_feature_idx, axis=None):\n",
    "    fig, ax = pyplot.subplots()\n",
    "    ax.grid(True, alpha=0.3)\n",
    "    pyplot.scatter(convert_array(features, truth, xaxis_feature_idx), \n",
    "                       convert_array(features, truth, yaxis_feature_idx),\n",
    "                       marker='o', \n",
    "                       s=convert_array(features, truth, circle_area_feature_idx), \n",
    "                       c=convert_array(features, truth, color_feature_idx))\n",
    "    if axis != None and len(axis) == 4: #in format [xmin,xmax,ymin,ymax]\n",
    "        pyplot.axis(axis)\n",
    "    pyplot.gcf().set_size_inches(15, 10)\n",
    "    pyplot.show()\n",
    "\n",
    "def boxplot(features, truth, feature_idxs, feature_labels, by_label=None):\n",
    "    fig, ax = pyplot.subplots()\n",
    "    data = []\n",
    "    if by_label == None:\n",
    "        for idx in feature_idxs:\n",
    "            data.append(features[:,idx])\n",
    "        ax.boxplot(data, labels=feature_labels)\n",
    "    else:\n",
    "        box_labels = []\n",
    "        for idx in feature_idxs:\n",
    "            for j in by_label:\n",
    "                data.append([features[i,idx] for i in range(len(truth)) if truth[i]==by_label[j]])\n",
    "                box_labels.append(feature_labels[idx]+\"-\"+str(by_label[j]))\n",
    "        ax.boxplot(data, labels=box_labels)\n",
    "    #pyplot.setp(feature_labels, rotation=45, fontsize=8)\n",
    "    pyplot.gcf().set_size_inches(15, 10)\n",
    "    pyplot.show()\n",
    "\n",
    "def histogram(features, feature_idx, feature_label, bins, axis):\n",
    "    fig, ax = pyplot.subplots()\n",
    "    n, bins, patches = pyplot.hist(features[:,feature_idx], bins)\n",
    "    pyplot.xlabel(feature_label)\n",
    "    pyplot.gcf().set_size_inches(15, 10)\n",
    "    pyplot.show()\n"
   ]
  },
  {
   "cell_type": "code",
   "execution_count": null,
   "metadata": {
    "collapsed": false
   },
   "outputs": [],
   "source": [
    "import load_tsv\n",
    "import numpy\n",
    "from sklearn.svm import SVC\n",
    "import query_by_committee_sampling\n",
    "import density_sampling\n",
    "import random_sampling\n",
    "import uncertainty_sampling\n",
    "\n",
    "features, truth = load_tsv.load_tsv_features_truth(\"data/part1.tsv\",[0,1,2],3)\n",
    "print \"Plotting \"+\"data/part1.tsv\"\n",
    "scatterplot(features, truth, 0,1,2,3, [-100,200,-100,200])\n",
    "\n",
    "svm = SVC(C=1, kernel=\"linear\", probability=True, max_iter=50000)\n",
    "svm.fit(features, truth)\n",
    "print \"random\"\n",
    "rand_files = random_sampling.parallel_random_sampling(0.1,[\"data/part1.tsv\",\"data/part2.tsv\"], 1)\n",
    "print \"uncertainty\"\n",
    "unc_files = uncertainty_sampling.parallel_smallmargin_uncertainty_sampling(svm,[\"data/part1.tsv\", \"data/part2.tsv\"]  ,[0,1,2],3,0.1,1)\n",
    "print \"density\"\n",
    "den_files = density_sampling.parallel_density_sampling([\"data/part1.tsv\", \"data/part2.tsv\"], \"data/densitytest.tsv\", [0,1,2], 3, 3, 0.2, 5, 8)\n",
    "print \"query\"\n",
    "qry_files = query_by_committee_sampling.parallel_query_sampling([svm],[\"data/part1.tsv\", \"data/part2.tsv\"]  ,[0,1,2],3,0.1,1)\n",
    "\n",
    "print rand_files, unc_files, den_files, qry_files\n",
    "\n",
    "\n",
    "if False:\n",
    "    # Create, fit, predict with the SVM Classifier\n",
    "    svm = SVC(C=1, kernel=\"linear\", probability=True, max_iter=50000)\n",
    "    svm.fit(features, truth)\n",
    "    #features, truth = load_tsv.load_tsv_features_truth(\"data/part1.tsv\", [0,1,2], 3)\n",
    "    vals = uncertainty_sampling.parallel_smallmargin_uncertainty_sampling(svm,[\"data/part1.tsv\", \"data/part2.tsv\"]  ,[0,1,2],3,0.1,1)\n",
    "    for val in vals:\n",
    "        print \"Plotting \"+val[0]\n",
    "        #scatterplot(val[1], truth[val[2]], 0,1,2,3, [-100,200,-100,200])\n",
    "    \n",
    "    #features, truth = load_tsv.load_tsv_features_truth(\"data/part1.tsv\", [0,1,2], 3)\n",
    "    vals = uncertainty_sampling.parallel_maxent_uncertainty_sampling(svm,[\"data/part1.tsv\", \"data/part2.tsv\"]  ,[0,1,2],3,0.1,1)\n",
    "    for val in vals:\n",
    "        print \"Plotting \"+val[0]\n",
    "        #scatterplot(val[1], truth[val[2]], 0,1,2,3,[-100,200,-100,200])\n",
    "        boxplot(val[1],truth[val[2]],[0,1,2],[\"feature1\",\"feature2\",\"feature3\"],[0,1])\n",
    "        histogram(val[1],0,val[0]+\"-feature1\",50,None)\n"
   ]
  },
  {
   "cell_type": "code",
   "execution_count": null,
   "metadata": {
    "collapsed": false
   },
   "outputs": [],
   "source": []
  }
 ],
 "metadata": {
  "kernelspec": {
   "display_name": "Python 2",
   "language": "python",
   "name": "python2"
  },
  "language_info": {
   "codemirror_mode": {
    "name": "ipython",
    "version": 2
   },
   "file_extension": ".py",
   "mimetype": "text/x-python",
   "name": "python",
   "nbconvert_exporter": "python",
   "pygments_lexer": "ipython2",
   "version": "2.7.10"
  }
 },
 "nbformat": 4,
 "nbformat_minor": 0
}
